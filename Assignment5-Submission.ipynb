{
 "cells": [
  {
   "cell_type": "markdown",
   "metadata": {},
   "source": [
    "### Part -1 \n",
    "\n",
    "#### Use OpenCV or any other library for input pipeline (transformations, augmentations, rotation, etc..)\n"
   ]
  },
  {
   "cell_type": "code",
   "execution_count": 1,
   "metadata": {},
   "outputs": [],
   "source": [
    "import tensorflow as tf\n",
    "import matplotlib.pyplot as plt\n",
    "import numpy as np"
   ]
  },
  {
   "cell_type": "code",
   "execution_count": 2,
   "metadata": {},
   "outputs": [],
   "source": [
    "from mnist import MNIST"
   ]
  },
  {
   "cell_type": "code",
   "execution_count": 3,
   "metadata": {},
   "outputs": [],
   "source": [
    "mndata = MNIST('samples')\n",
    "images, labels = mndata.load_training()\n",
    "images1, labels1 = mndata.load_testing()"
   ]
  },
  {
   "cell_type": "code",
   "execution_count": 4,
   "metadata": {},
   "outputs": [],
   "source": [
    "#Converting list into numpy arrays\n",
    "train_x=np.array(images)\n",
    "train_y=np.array(labels)\n",
    "test_x=np.array(images1)\n",
    "test_y=np.array(labels1)"
   ]
  },
  {
   "cell_type": "code",
   "execution_count": 5,
   "metadata": {},
   "outputs": [],
   "source": [
    "#Reshaping in Conventional Form\n",
    "train_x=train_x.T\n",
    "test_x=test_x.T\n",
    "train_y=train_y.reshape(1,60000)\n",
    "test_y=test_y.reshape(1,10000)"
   ]
  },
  {
   "cell_type": "code",
   "execution_count": 6,
   "metadata": {
    "scrolled": false
   },
   "outputs": [
    {
     "data": {
      "image/png": "[encoded data removed]",
      "text/plain": [
       "<Figure size 432x288 with 1 Axes>"
      ]
     },
     "metadata": {
      "needs_background": "light"
     },
     "output_type": "display_data"
    }
   ],
   "source": [
    "#Printing Image\n",
    "plt.imshow(train_x[:,0].reshape((28,28)), interpolation='nearest',cmap='gray')\n",
    "plt.show()"
   ]
  },
  {
   "cell_type": "code",
   "execution_count": 7,
   "metadata": {},
   "outputs": [],
   "source": [
    "#Importing Necessary Libraries for Transformation\n",
    "from skimage.transform import rescale\n",
    "from skimage.transform import rotate\n",
    "from skimage import exposure\n",
    "import warnings\n",
    "warnings.filterwarnings(\"ignore\")"
   ]
  },
  {
   "cell_type": "markdown",
   "metadata": {},
   "source": [
    "#### Transformation Functions:"
   ]
  },
  {
   "cell_type": "code",
   "execution_count": 8,
   "metadata": {},
   "outputs": [],
   "source": [
    "def image_with_rotation(image,degree):\n",
    "    return rotate(image, degree)"
   ]
  },
  {
   "cell_type": "code",
   "execution_count": 9,
   "metadata": {},
   "outputs": [],
   "source": [
    "def horizontal_flip(image):\n",
    "    return image[:, ::-1]"
   ]
  },
  {
   "cell_type": "code",
   "execution_count": 10,
   "metadata": {},
   "outputs": [],
   "source": [
    "def vertical_flip(image):\n",
    "    return image[::-1, :]"
   ]
  },
  {
   "cell_type": "code",
   "execution_count": 11,
   "metadata": {},
   "outputs": [],
   "source": [
    "def better_contrast(image):\n",
    "    v_min, v_max = np.percentile(image, (0.2, 99.8))\n",
    "    return exposure.rescale_intensity(image, in_range=(v_min, v_max))"
   ]
  },
  {
   "cell_type": "markdown",
   "metadata": {},
   "source": [
    "Below Augmentation is done sequentially on train data so labels in rotated_image,hori_flip,etc. are retained in the order of training set."
   ]
  },
  {
   "cell_type": "code",
   "execution_count": 12,
   "metadata": {
    "scrolled": false
   },
   "outputs": [],
   "source": [
    "rotated_image=[]\n",
    "hori_flip=[]\n",
    "verti_flip=[]\n",
    "better_cont=[]\n",
    "for i in range(0,60000):\n",
    "    image=train_x[:,i].reshape((28,28))\n",
    "    rotated_image.append(image_with_rotation(image,90))\n",
    "    hori_flip.append(horizontal_flip(image))\n",
    "    verti_flip.append(vertical_flip(image))\n",
    "    better_cont.append(better_contrast(image))"
   ]
  },
  {
   "cell_type": "code",
   "execution_count": 13,
   "metadata": {
    "scrolled": true
   },
   "outputs": [],
   "source": [
    "# plt.imshow(np.array(better_cont)[2].reshape((28,28)),interpolation='nearest',cmap='gray')\n",
    "# plt.show()"
   ]
  },
  {
   "cell_type": "code",
   "execution_count": 14,
   "metadata": {},
   "outputs": [],
   "source": [
    "#Reshaping in conventional Form\n",
    "rotated_image=np.array(rotated_image).reshape((60000,-1)).T\n",
    "hori_flip=np.array(hori_flip).reshape((60000,-1)).T\n",
    "verti_flip=np.array(verti_flip).reshape((60000,-1)).T\n",
    "better_cont=np.array(better_cont).reshape((60000,-1)).T"
   ]
  },
  {
   "cell_type": "code",
   "execution_count": 15,
   "metadata": {},
   "outputs": [],
   "source": [
    "train_x=np.concatenate((train_x,rotated_image),axis=1)\n",
    "train_x=np.concatenate((train_x,hori_flip),axis=1)\n",
    "train_x=np.concatenate((train_x,verti_flip),axis=1)\n",
    "train_x=np.concatenate((train_x,better_cont),axis=1)"
   ]
  },
  {
   "cell_type": "code",
   "execution_count": 16,
   "metadata": {},
   "outputs": [],
   "source": [
    "train_y_temp=train_y.copy()"
   ]
  },
  {
   "cell_type": "code",
   "execution_count": 17,
   "metadata": {},
   "outputs": [],
   "source": [
    "train_y=np.concatenate((train_y,train_y_temp),axis=1)\n",
    "train_y=np.concatenate((train_y,train_y_temp),axis=1)\n",
    "train_y=np.concatenate((train_y,train_y_temp),axis=1)\n",
    "train_y=np.concatenate((train_y,train_y_temp),axis=1)"
   ]
  },
  {
   "cell_type": "code",
   "execution_count": 18,
   "metadata": {},
   "outputs": [],
   "source": [
    "#Normalizing\n",
    "train_x=train_x/255\n",
    "test_x=test_x/255"
   ]
  },
  {
   "cell_type": "code",
   "execution_count": 19,
   "metadata": {},
   "outputs": [
    {
     "data": {
      "text/plain": [
       "(784, 300000)"
      ]
     },
     "execution_count": 19,
     "metadata": {},
     "output_type": "execute_result"
    }
   ],
   "source": [
    "train_x.shape"
   ]
  },
  {
   "cell_type": "code",
   "execution_count": 20,
   "metadata": {},
   "outputs": [
    {
     "data": {
      "text/plain": [
       "(1, 300000)"
      ]
     },
     "execution_count": 20,
     "metadata": {},
     "output_type": "execute_result"
    }
   ],
   "source": [
    "train_y.shape"
   ]
  },
  {
   "cell_type": "markdown",
   "metadata": {},
   "source": [
    "### Part -2\n",
    "#### Build a CNN network from scratch using tensorflow on transformed data with highest validation accuracy & use that  model for inference."
   ]
  },
  {
   "cell_type": "markdown",
   "metadata": {},
   "source": [
    "No Dropout and Mini batch Input.Trained for subset of data from row 30k to 90k.And fed randomly to the network using batch sie of 128."
   ]
  },
  {
   "cell_type": "markdown",
   "metadata": {},
   "source": [
    "A 'nan' value for Minibatch Loss came when whole data was used as input.\n"
   ]
  },
  {
   "cell_type": "code",
   "execution_count": 21,
   "metadata": {},
   "outputs": [],
   "source": [
    "# Network Parameters\n",
    "n_input = 784  # MNIST data input (img shape: 28*28)\n",
    "n_classes = 10  # MNIST total classes (0-9 digits)\n",
    "dropout = 1. # Dropout, probability to keep units"
   ]
  },
  {
   "cell_type": "code",
   "execution_count": 22,
   "metadata": {},
   "outputs": [],
   "source": [
    "# tf Graph input\n",
    "x = tf.placeholder(tf.float32, [None, n_input])\n",
    "y = tf.placeholder(tf.float32, [None, n_classes])\n",
    "keep_prob = tf.placeholder(tf.float32)  # dropout (keep probability)"
   ]
  },
  {
   "cell_type": "code",
   "execution_count": 23,
   "metadata": {},
   "outputs": [],
   "source": [
    "# Create some wrappers for simplicity\n",
    "def conv2d(x, W, b, strides=1):\n",
    "    # Conv2D wrapper, with bias and relu activation\n",
    "    x = tf.nn.conv2d(x, W, strides=[1, strides, strides, 1], padding='SAME')\n",
    "    x = tf.nn.bias_add(x, b)\n",
    "    return tf.nn.relu(x)"
   ]
  },
  {
   "cell_type": "code",
   "execution_count": 24,
   "metadata": {},
   "outputs": [],
   "source": [
    "def maxpool2d(x, k=2):\n",
    "    # MaxPool2D wrapper\n",
    "    return tf.nn.max_pool(x, ksize=[1, k, k, 1], strides=[1, k, k, 1],\n",
    "                          padding='SAME')"
   ]
  },
  {
   "cell_type": "code",
   "execution_count": 25,
   "metadata": {},
   "outputs": [],
   "source": [
    "# Create model\n",
    "def conv_net(x, weights, biases, dropout):\n",
    "    # Reshape input picture\n",
    "    x = tf.reshape(x, shape=[-1, 28, 28, 1])\n",
    "\n",
    "    # Convolution Layer\n",
    "    conv1 = conv2d(x, weights['wc1'], biases['bc1'])\n",
    "    # Max Pooling (down-sampling)\n",
    "    conv1 = maxpool2d(conv1, k=2)\n",
    "\n",
    "    # Convolution Layer\n",
    "    conv2 = conv2d(conv1, weights['wc2'], biases['bc2'])\n",
    "    # Max Pooling (down-sampling)\n",
    "    conv2 = maxpool2d(conv2, k=2)\n",
    "\n",
    "    # Fully connected layer\n",
    "    # Reshape conv2 output to fit fully connected layer input\n",
    "    fc1 = tf.reshape(conv2, [-1, weights['wd1'].get_shape().as_list()[0]])\n",
    "    fc1 = tf.add(tf.matmul(fc1, weights['wd1']), biases['bd1'])\n",
    "    fc1 = tf.nn.relu(fc1)\n",
    "    # Apply Dropout\n",
    "    fc1 = tf.nn.dropout(fc1, dropout)\n",
    "\n",
    "    # Output, class prediction\n",
    "    out = tf.add(tf.matmul(fc1, weights['out']), biases['out'])\n",
    "    return out"
   ]
  },
  {
   "cell_type": "code",
   "execution_count": 26,
   "metadata": {
    "scrolled": true
   },
   "outputs": [
    {
     "name": "stdout",
     "output_type": "stream",
     "text": [
      "WARNING:tensorflow:From /home/sanjay/anaconda3/lib/python3.7/site-packages/tensorflow/python/framework/op_def_library.py:263: colocate_with (from tensorflow.python.framework.ops) is deprecated and will be removed in a future version.\n",
      "Instructions for updating:\n",
      "Colocations handled automatically by placer.\n"
     ]
    }
   ],
   "source": [
    "# Store layers weight & bias\n",
    "\n",
    "weights = {\n",
    "    # 5x5 conv, 1 input, 32 outputs\n",
    "    'wc1': tf.Variable(tf.random_normal([5, 5, 1, 32])),\n",
    "    # 5x5 conv, 32 inputs, 64 outputs\n",
    "    'wc2': tf.Variable(tf.random_normal([5, 5, 32, 64])),\n",
    "    # fully connected, 7*7*64 inputs, 1024 outputs\n",
    "    'wd1': tf.Variable(tf.random_normal([7 * 7 * 64, 1024])),\n",
    "    # 1024 inputs, 10 outputs (class prediction)\n",
    "    'out': tf.Variable(tf.random_normal([1024, n_classes]))\n",
    "}\n",
    "\n",
    "biases = {\n",
    "    'bc1': tf.Variable(tf.random_normal([32])),\n",
    "    'bc2': tf.Variable(tf.random_normal([64])),\n",
    "    'bd1': tf.Variable(tf.random_normal([1024])),\n",
    "    'out': tf.Variable(tf.random_normal([n_classes]))\n",
    "}"
   ]
  },
  {
   "cell_type": "code",
   "execution_count": 53,
   "metadata": {
    "scrolled": true
   },
   "outputs": [],
   "source": [
    "# Construct model\n",
    "pred = conv_net(x, weights, biases, keep_prob)\n",
    "# Define loss and optimizer\n",
    "cost = tf.reduce_mean(tf.nn.softmax_cross_entropy_with_logits(logits=pred, labels=y))\n",
    "optimizer = tf.train.AdamOptimizer(learning_rate=0.0001).minimize(cost)\n",
    "# Evaluate model\n",
    "correct_pred = tf.equal(tf.argmax(pred, 1), tf.argmax(y, 1))\n",
    "accuracy = tf.reduce_mean(tf.cast(correct_pred, tf.float32))"
   ]
  },
  {
   "cell_type": "code",
   "execution_count": 54,
   "metadata": {},
   "outputs": [],
   "source": [
    "# Initializing the variables\n",
    "init = tf.initialize_all_variables()"
   ]
  },
  {
   "cell_type": "code",
   "execution_count": 55,
   "metadata": {},
   "outputs": [],
   "source": [
    "saver=tf.train.Saver()"
   ]
  },
  {
   "cell_type": "code",
   "execution_count": 56,
   "metadata": {},
   "outputs": [],
   "source": [
    "digits = 10 # No. of Classes\n",
    "m=300000 #Training Instances\n",
    "\n",
    "Y_new = np.eye(digits)[train_y.astype('int32')]\n",
    "Y_new = Y_new.T.reshape(digits,m)\n",
    "Y_test = np.eye(digits)[test_y.astype('int32')]\n",
    "Y_test = Y_test.T.reshape(digits,10000)"
   ]
  },
  {
   "cell_type": "code",
   "execution_count": 57,
   "metadata": {},
   "outputs": [],
   "source": [
    "def next_batch(num, data, labels):\n",
    "    '''\n",
    "    Return a total of `num` random samples and labels. \n",
    "    '''\n",
    "    idx = np.arange(0 , len(data))\n",
    "    np.random.shuffle(idx)\n",
    "    idx = idx[:num]\n",
    "    data_shuffle = [data[ i] for i in idx]\n",
    "    labels_shuffle = [labels[ i] for i in idx]\n",
    "\n",
    "    return np.asarray(data_shuffle), np.asarray(labels_shuffle)"
   ]
  },
  {
   "cell_type": "code",
   "execution_count": 58,
   "metadata": {},
   "outputs": [],
   "source": [
    "x_=train_x.T[30000:90000,:]\n",
    "y_=Y_new.T[30000:90000,:]"
   ]
  },
  {
   "cell_type": "code",
   "execution_count": 59,
   "metadata": {},
   "outputs": [],
   "source": [
    "# Parameters\n",
    "training_iters = 60000\n",
    "batch_size = 100\n",
    "display_step = 10"
   ]
  },
  {
   "cell_type": "code",
   "execution_count": 60,
   "metadata": {
    "scrolled": true
   },
   "outputs": [
    {
     "name": "stdout",
     "output_type": "stream",
     "text": [
      "Iter 1000, Minibatch Loss= 44783.761719, Training Accuracy= 0.13000\n",
      "Iter 2000, Minibatch Loss= 30280.001953, Training Accuracy= 0.13000\n",
      "Iter 3000, Minibatch Loss= 21030.289062, Training Accuracy= 0.10000\n",
      "Iter 4000, Minibatch Loss= 17209.458984, Training Accuracy= 0.13000\n",
      "Iter 5000, Minibatch Loss= 15466.257812, Training Accuracy= 0.11000\n",
      "Iter 6000, Minibatch Loss= 13773.919922, Training Accuracy= 0.12000\n",
      "Iter 7000, Minibatch Loss= 11252.800781, Training Accuracy= 0.14000\n",
      "Iter 8000, Minibatch Loss= 6575.095215, Training Accuracy= 0.27000\n",
      "Iter 9000, Minibatch Loss= 5545.330078, Training Accuracy= 0.29000\n",
      "Iter 10000, Minibatch Loss= 3852.940918, Training Accuracy= 0.23000\n",
      "Iter 11000, Minibatch Loss= 7272.272949, Training Accuracy= 0.29000\n",
      "Iter 12000, Minibatch Loss= 6273.807617, Training Accuracy= 0.27000\n",
      "Iter 13000, Minibatch Loss= 5826.368652, Training Accuracy= 0.20000\n",
      "Iter 14000, Minibatch Loss= 6304.845703, Training Accuracy= 0.21000\n",
      "Iter 15000, Minibatch Loss= 4548.102539, Training Accuracy= 0.32000\n",
      "Iter 16000, Minibatch Loss= 3317.113037, Training Accuracy= 0.26000\n",
      "Iter 17000, Minibatch Loss= 4241.637207, Training Accuracy= 0.32000\n",
      "Iter 18000, Minibatch Loss= 2940.304932, Training Accuracy= 0.34000\n",
      "Iter 19000, Minibatch Loss= 4612.372070, Training Accuracy= 0.27000\n",
      "Iter 20000, Minibatch Loss= 4241.936523, Training Accuracy= 0.26000\n",
      "Iter 21000, Minibatch Loss= 4752.198242, Training Accuracy= 0.29000\n",
      "Iter 22000, Minibatch Loss= 3769.279053, Training Accuracy= 0.36000\n",
      "Iter 23000, Minibatch Loss= 5667.292480, Training Accuracy= 0.25000\n",
      "Iter 24000, Minibatch Loss= 4594.154785, Training Accuracy= 0.31000\n",
      "Iter 25000, Minibatch Loss= 5020.426270, Training Accuracy= 0.31000\n",
      "Iter 26000, Minibatch Loss= 3104.666992, Training Accuracy= 0.29000\n",
      "Iter 27000, Minibatch Loss= 3421.670654, Training Accuracy= 0.33000\n",
      "Iter 28000, Minibatch Loss= 2181.167725, Training Accuracy= 0.35000\n",
      "Iter 29000, Minibatch Loss= 3074.198730, Training Accuracy= 0.31000\n",
      "Iter 30000, Minibatch Loss= 4653.897949, Training Accuracy= 0.36000\n",
      "Iter 31000, Minibatch Loss= 4455.327637, Training Accuracy= 0.30000\n",
      "Iter 32000, Minibatch Loss= 4473.169434, Training Accuracy= 0.34000\n",
      "Iter 33000, Minibatch Loss= 3513.134277, Training Accuracy= 0.41000\n",
      "Iter 34000, Minibatch Loss= 3481.494385, Training Accuracy= 0.32000\n",
      "Iter 35000, Minibatch Loss= 2798.938232, Training Accuracy= 0.41000\n",
      "Iter 36000, Minibatch Loss= 3721.116943, Training Accuracy= 0.25000\n",
      "Iter 37000, Minibatch Loss= 2173.694824, Training Accuracy= 0.29000\n",
      "Iter 38000, Minibatch Loss= 4131.260742, Training Accuracy= 0.25000\n",
      "Iter 39000, Minibatch Loss= 3642.553223, Training Accuracy= 0.35000\n",
      "Iter 40000, Minibatch Loss= 2791.243652, Training Accuracy= 0.33000\n",
      "Iter 41000, Minibatch Loss= 3225.315674, Training Accuracy= 0.38000\n",
      "Iter 42000, Minibatch Loss= 2584.747803, Training Accuracy= 0.46000\n",
      "Iter 43000, Minibatch Loss= 3017.670654, Training Accuracy= 0.35000\n",
      "Iter 44000, Minibatch Loss= 2777.577393, Training Accuracy= 0.36000\n",
      "Iter 45000, Minibatch Loss= 2625.821533, Training Accuracy= 0.35000\n",
      "Iter 46000, Minibatch Loss= 1251.530884, Training Accuracy= 0.44000\n",
      "Iter 47000, Minibatch Loss= 2484.332764, Training Accuracy= 0.36000\n",
      "Iter 48000, Minibatch Loss= 3137.141357, Training Accuracy= 0.40000\n",
      "Iter 49000, Minibatch Loss= 3045.578125, Training Accuracy= 0.30000\n",
      "Iter 50000, Minibatch Loss= 2599.710205, Training Accuracy= 0.38000\n",
      "Iter 51000, Minibatch Loss= 2801.816895, Training Accuracy= 0.40000\n",
      "Iter 52000, Minibatch Loss= 2158.431152, Training Accuracy= 0.35000\n",
      "Iter 53000, Minibatch Loss= 2233.012451, Training Accuracy= 0.39000\n",
      "Iter 54000, Minibatch Loss= 2993.448975, Training Accuracy= 0.42000\n",
      "Iter 55000, Minibatch Loss= 2163.750244, Training Accuracy= 0.41000\n",
      "Iter 56000, Minibatch Loss= 2745.973145, Training Accuracy= 0.43000\n",
      "Iter 57000, Minibatch Loss= 2356.947266, Training Accuracy= 0.41000\n",
      "Iter 58000, Minibatch Loss= 2378.826660, Training Accuracy= 0.37000\n",
      "Iter 59000, Minibatch Loss= 1565.344360, Training Accuracy= 0.43000\n",
      "Optimization Finished!\n",
      "Testing accuracy: 0.666\n"
     ]
    }
   ],
   "source": [
    "# Launch the graph\n",
    "with tf.Session() as sess:\n",
    "    sess.run(init)\n",
    "    step = 1\n",
    "    loss_=[]\n",
    "    epoch_=[]\n",
    "    # Keep training until reach max iterations\n",
    "    while step * batch_size < training_iters:\n",
    "        #Creating Batch of Train data\n",
    "        batch_x, batch_y = next_batch(batch_size,x_,y_)\n",
    "        # Run optimization op (backprop)\n",
    "        sess.run(optimizer, feed_dict={x: batch_x, y: batch_y,keep_prob: dropout})\n",
    "        \n",
    "        if step % display_step == 0:\n",
    "            # Calculate batch loss and accuracy\n",
    "            loss, acc = sess.run([cost, accuracy], feed_dict={x: batch_x,y: batch_y,keep_prob: 1.})\n",
    "            print(\"Iter \" + str(step * batch_size) + \", Minibatch Loss= \" + \\\n",
    "                  \"{:.6f}\".format(loss) + \", Training Accuracy= \" + \\\n",
    "                  \"{:.5f}\".format(acc))\n",
    "        loss_.append(loss)\n",
    "        epoch_.append(step)\n",
    "        step += 1\n",
    "    #Saving Model    \n",
    "    save_path = saver.save(sess, \"./fashion-mnist-model.ckpt\")\n",
    "    print(\"Optimization Finished!\")\n",
    "    print('Testing accuracy:', sess.run(accuracy, feed_dict={x: test_x.T[:1000,:], y:Y_test.T[:1000,:], keep_prob:1.}))\n",
    "    "
   ]
  },
  {
   "cell_type": "code",
   "execution_count": 61,
   "metadata": {},
   "outputs": [
    {
     "data": {
      "image/png": "[encoded data removed]",
      "text/plain": [
       "<Figure size 432x288 with 1 Axes>"
      ]
     },
     "metadata": {
      "needs_background": "light"
     },
     "output_type": "display_data"
    }
   ],
   "source": [
    "import matplotlib.pyplot as plt\n",
    "plt.plot(epoch_,loss_)\n",
    "plt.show()"
   ]
  },
  {
   "cell_type": "markdown",
   "metadata": {},
   "source": [
    "### Part -3\n",
    "#### Modify the above architecture by using Batch normalization, dropout, ReduceLRonPlateau, Early stopping.\n"
   ]
  },
  {
   "cell_type": "markdown",
   "metadata": {},
   "source": [
    "With Dropout =0.5"
   ]
  },
  {
   "cell_type": "code",
   "execution_count": 62,
   "metadata": {},
   "outputs": [],
   "source": [
    "# Network Parameters\n",
    "n_input = 784  # MNIST data input (img shape: 28*28)\n",
    "n_classes = 10  # MNIST total classes (0-9 digits)\n",
    "dropout = 0.50 # Dropout, probability to keep units"
   ]
  },
  {
   "cell_type": "code",
   "execution_count": 63,
   "metadata": {},
   "outputs": [],
   "source": [
    "# tf Graph input\n",
    "x = tf.placeholder(tf.float32, [None, n_input])\n",
    "y = tf.placeholder(tf.float32, [None, n_classes])\n",
    "keep_prob = tf.placeholder(tf.float32)  # dropout (keep probability)"
   ]
  },
  {
   "cell_type": "code",
   "execution_count": 64,
   "metadata": {},
   "outputs": [],
   "source": [
    "# Create some wrappers for simplicity\n",
    "def conv2d(x, W, b, strides=1):\n",
    "    # Conv2D wrapper, with bias and relu activation\n",
    "    x = tf.nn.conv2d(x, W, strides=[1, strides, strides, 1], padding='SAME')\n",
    "    x = tf.nn.bias_add(x, b)\n",
    "    return tf.nn.relu(x)"
   ]
  },
  {
   "cell_type": "code",
   "execution_count": 65,
   "metadata": {},
   "outputs": [],
   "source": [
    "def maxpool2d(x, k=2):\n",
    "    # MaxPool2D wrapper\n",
    "    return tf.nn.max_pool(x, ksize=[1, k, k, 1], strides=[1, k, k, 1],\n",
    "                          padding='SAME')"
   ]
  },
  {
   "cell_type": "code",
   "execution_count": 66,
   "metadata": {},
   "outputs": [],
   "source": [
    "# Create model\n",
    "def conv_net(x, weights, biases, dropout):\n",
    "    # Reshape input picture\n",
    "    x = tf.reshape(x, shape=[-1, 28, 28, 1])\n",
    "\n",
    "    # Convolution Layer\n",
    "    conv1 = conv2d(x, weights['wc1'], biases['bc1'])\n",
    "    # Max Pooling (down-sampling)\n",
    "    conv1 = maxpool2d(conv1, k=2)\n",
    "\n",
    "    # Convolution Layer\n",
    "    conv2 = conv2d(conv1, weights['wc2'], biases['bc2'])\n",
    "    # Max Pooling (down-sampling)\n",
    "    conv2 = maxpool2d(conv2, k=2)\n",
    "\n",
    "    # Fully connected layer\n",
    "    # Reshape conv2 output to fit fully connected layer input\n",
    "    fc1 = tf.reshape(conv2, [-1, weights['wd1'].get_shape().as_list()[0]])\n",
    "    fc1 = tf.add(tf.matmul(fc1, weights['wd1']), biases['bd1'])\n",
    "    fc1 = tf.nn.relu(fc1)\n",
    "    # Apply Dropout\n",
    "    fc1 = tf.nn.dropout(fc1, dropout)\n",
    "\n",
    "    # Output, class prediction\n",
    "    out = tf.add(tf.matmul(fc1, weights['out']), biases['out'])\n",
    "    return out"
   ]
  },
  {
   "cell_type": "code",
   "execution_count": 67,
   "metadata": {
    "scrolled": true
   },
   "outputs": [],
   "source": [
    "# Store layers weight & bias\n",
    "\n",
    "weights = {\n",
    "    # 5x5 conv, 1 input, 32 outputs\n",
    "    'wc1': tf.Variable(tf.random_normal([5, 5, 1, 32])),\n",
    "    # 5x5 conv, 32 inputs, 64 outputs\n",
    "    'wc2': tf.Variable(tf.random_normal([5, 5, 32, 64])),\n",
    "    # fully connected, 7*7*64 inputs, 1024 outputs\n",
    "    'wd1': tf.Variable(tf.random_normal([7 * 7 * 64, 1024])),\n",
    "    # 1024 inputs, 10 outputs (class prediction)\n",
    "    'out': tf.Variable(tf.random_normal([1024, n_classes]))\n",
    "}\n",
    "\n",
    "biases = {\n",
    "    'bc1': tf.Variable(tf.random_normal([32])),\n",
    "    'bc2': tf.Variable(tf.random_normal([64])),\n",
    "    'bd1': tf.Variable(tf.random_normal([1024])),\n",
    "    'out': tf.Variable(tf.random_normal([n_classes]))\n",
    "}"
   ]
  },
  {
   "cell_type": "code",
   "execution_count": 68,
   "metadata": {},
   "outputs": [],
   "source": [
    "# Construct model\n",
    "pred = conv_net(x, weights, biases, keep_prob)"
   ]
  },
  {
   "cell_type": "code",
   "execution_count": 71,
   "metadata": {
    "scrolled": true
   },
   "outputs": [],
   "source": [
    "# Define loss and optimizer\n",
    "cost = tf.reduce_mean(tf.nn.softmax_cross_entropy_with_logits(logits=pred, labels=y))\n",
    "optimizer = tf.train.AdamOptimizer(learning_rate=0.01).minimize(cost)\n",
    "# Evaluate model\n",
    "correct_pred = tf.equal(tf.argmax(pred, 1), tf.argmax(y, 1))\n",
    "accuracy = tf.reduce_mean(tf.cast(correct_pred, tf.float32))\n",
    "# Initializing the variables\n",
    "init = tf.initialize_all_variables()"
   ]
  },
  {
   "cell_type": "code",
   "execution_count": 72,
   "metadata": {},
   "outputs": [],
   "source": [
    "digits = 10 # No. of Classes\n",
    "m=300000 #Training Instances\n",
    "\n",
    "Y_new = np.eye(digits)[train_y.astype('int32')]\n",
    "Y_new = Y_new.T.reshape(digits,m)\n",
    "Y_test = np.eye(digits)[test_y.astype('int32')]\n",
    "Y_test = Y_test.T.reshape(digits,10000)"
   ]
  },
  {
   "cell_type": "code",
   "execution_count": 73,
   "metadata": {},
   "outputs": [],
   "source": [
    "def next_batch(num, data, labels):\n",
    "    '''\n",
    "    Return a total of `num` random samples and labels. \n",
    "    '''\n",
    "    idx = np.arange(0 , len(data))\n",
    "    np.random.shuffle(idx)\n",
    "    idx = idx[:num]\n",
    "    data_shuffle = [data[ i] for i in idx]\n",
    "    labels_shuffle = [labels[ i] for i in idx]\n",
    "\n",
    "    return np.asarray(data_shuffle), np.asarray(labels_shuffle)"
   ]
  },
  {
   "cell_type": "code",
   "execution_count": 74,
   "metadata": {},
   "outputs": [],
   "source": [
    "x_=train_x.T[30000:90000,:]\n",
    "y_=Y_new.T[30000:90000,:]"
   ]
  },
  {
   "cell_type": "code",
   "execution_count": 75,
   "metadata": {},
   "outputs": [],
   "source": [
    "# Parameters\n",
    "training_iters = 60000\n",
    "batch_size = 100\n",
    "display_step = 10"
   ]
  },
  {
   "cell_type": "code",
   "execution_count": 77,
   "metadata": {
    "scrolled": true
   },
   "outputs": [
    {
     "name": "stdout",
     "output_type": "stream",
     "text": [
      "Iter 1000, Minibatch Loss= 17314.943359, Training Accuracy= 0.19000\n",
      "Iter 2000, Minibatch Loss= 4622.246094, Training Accuracy= 0.29000\n",
      "Iter 3000, Minibatch Loss= 1254.456787, Training Accuracy= 0.33000\n",
      "Iter 4000, Minibatch Loss= 1239.172729, Training Accuracy= 0.32000\n",
      "Iter 5000, Minibatch Loss= 1017.699219, Training Accuracy= 0.31000\n",
      "Iter 6000, Minibatch Loss= 513.760193, Training Accuracy= 0.33000\n",
      "Iter 7000, Minibatch Loss= 275.810333, Training Accuracy= 0.43000\n",
      "Iter 8000, Minibatch Loss= 411.192810, Training Accuracy= 0.36000\n",
      "Iter 9000, Minibatch Loss= 430.672485, Training Accuracy= 0.30000\n",
      "Iter 10000, Minibatch Loss= 355.303680, Training Accuracy= 0.25000\n",
      "Iter 11000, Minibatch Loss= 302.715576, Training Accuracy= 0.31000\n",
      "Iter 12000, Minibatch Loss= 257.783569, Training Accuracy= 0.29000\n",
      "Iter 13000, Minibatch Loss= 300.936218, Training Accuracy= 0.34000\n",
      "Iter 14000, Minibatch Loss= 163.911438, Training Accuracy= 0.30000\n",
      "Iter 15000, Minibatch Loss= 222.036621, Training Accuracy= 0.31000\n",
      "Iter 16000, Minibatch Loss= 181.068481, Training Accuracy= 0.30000\n",
      "Iter 17000, Minibatch Loss= 115.169296, Training Accuracy= 0.33000\n",
      "Iter 18000, Minibatch Loss= 76.649376, Training Accuracy= 0.22000\n",
      "Iter 19000, Minibatch Loss= 143.026947, Training Accuracy= 0.28000\n",
      "Iter 20000, Minibatch Loss= 100.510979, Training Accuracy= 0.31000\n",
      "Iter 21000, Minibatch Loss= 108.546501, Training Accuracy= 0.28000\n",
      "Iter 22000, Minibatch Loss= 67.094116, Training Accuracy= 0.25000\n",
      "Iter 23000, Minibatch Loss= 97.104622, Training Accuracy= 0.15000\n",
      "Iter 24000, Minibatch Loss= 91.623337, Training Accuracy= 0.26000\n",
      "Iter 25000, Minibatch Loss= 77.308792, Training Accuracy= 0.12000\n",
      "Iter 26000, Minibatch Loss= 44.252842, Training Accuracy= 0.16000\n",
      "Iter 27000, Minibatch Loss= 22.403496, Training Accuracy= 0.33000\n",
      "Iter 28000, Minibatch Loss= 23.405947, Training Accuracy= 0.20000\n",
      "Iter 29000, Minibatch Loss= 36.594345, Training Accuracy= 0.15000\n",
      "Iter 30000, Minibatch Loss= 35.057919, Training Accuracy= 0.17000\n",
      "Iter 31000, Minibatch Loss= 29.143589, Training Accuracy= 0.21000\n",
      "Iter 32000, Minibatch Loss= 42.546432, Training Accuracy= 0.12000\n",
      "Iter 33000, Minibatch Loss= 14.558264, Training Accuracy= 0.27000\n",
      "Iter 34000, Minibatch Loss= 13.679028, Training Accuracy= 0.20000\n",
      "Iter 35000, Minibatch Loss= 9.627348, Training Accuracy= 0.20000\n",
      "Iter 36000, Minibatch Loss= 18.063753, Training Accuracy= 0.09000\n",
      "Iter 37000, Minibatch Loss= 12.636846, Training Accuracy= 0.09000\n",
      "Iter 38000, Minibatch Loss= 8.863230, Training Accuracy= 0.13000\n",
      "Iter 39000, Minibatch Loss= 16.052725, Training Accuracy= 0.17000\n",
      "Iter 40000, Minibatch Loss= 17.589540, Training Accuracy= 0.09000\n",
      "Iter 41000, Minibatch Loss= 3.141479, Training Accuracy= 0.11000\n",
      "Iter 42000, Minibatch Loss= 5.393856, Training Accuracy= 0.13000\n",
      "Iter 43000, Minibatch Loss= 5.570866, Training Accuracy= 0.11000\n",
      "Iter 44000, Minibatch Loss= 7.066225, Training Accuracy= 0.13000\n",
      "Iter 45000, Minibatch Loss= 3.823338, Training Accuracy= 0.12000\n",
      "Iter 46000, Minibatch Loss= 4.246644, Training Accuracy= 0.10000\n",
      "Iter 47000, Minibatch Loss= 4.471481, Training Accuracy= 0.11000\n",
      "Iter 48000, Minibatch Loss= 5.587505, Training Accuracy= 0.09000\n",
      "Iter 49000, Minibatch Loss= 4.614286, Training Accuracy= 0.12000\n",
      "Iter 50000, Minibatch Loss= 5.937871, Training Accuracy= 0.15000\n",
      "Iter 51000, Minibatch Loss= 3.503281, Training Accuracy= 0.09000\n",
      "Iter 52000, Minibatch Loss= 2.429259, Training Accuracy= 0.11000\n",
      "Iter 53000, Minibatch Loss= 2.464653, Training Accuracy= 0.17000\n",
      "Iter 54000, Minibatch Loss= 2.367157, Training Accuracy= 0.09000\n",
      "Iter 55000, Minibatch Loss= 3.649840, Training Accuracy= 0.09000\n",
      "Iter 56000, Minibatch Loss= 2.399256, Training Accuracy= 0.12000\n",
      "Iter 57000, Minibatch Loss= 4.430957, Training Accuracy= 0.19000\n",
      "Iter 58000, Minibatch Loss= 2.354014, Training Accuracy= 0.16000\n",
      "Iter 59000, Minibatch Loss= 2.637219, Training Accuracy= 0.18000\n",
      "Optimization Finished!\n",
      "Testing accuracy: 0.136\n"
     ]
    }
   ],
   "source": [
    "# Launch the graph\n",
    "with tf.Session() as sess:\n",
    "    sess.run(init)\n",
    "    step = 1\n",
    "    loss_drp=[]\n",
    "    epoch_drp=[]\n",
    "    # Keep training until reach max iterations\n",
    "    while step * batch_size < training_iters:\n",
    "        #Creating Batch of Train data\n",
    "        batch_x, batch_y = next_batch(batch_size,x_,y_)\n",
    "        # Run optimization op (backprop)\n",
    "        sess.run(optimizer, feed_dict={x: batch_x, y: batch_y,keep_prob: dropout})\n",
    "        \n",
    "        if step % display_step == 0:\n",
    "            # Calculate batch loss and accuracy\n",
    "            loss, acc = sess.run([cost, accuracy], feed_dict={x: batch_x,y: batch_y,keep_prob: 0.5})\n",
    "            print(\"Iter \" + str(step * batch_size) + \", Minibatch Loss= \" + \\\n",
    "                  \"{:.6f}\".format(loss) + \", Training Accuracy= \" + \\\n",
    "                  \"{:.5f}\".format(acc))\n",
    "        loss_drp.append(loss)\n",
    "        epoch_drp.append(step)\n",
    "        step += 1\n",
    "    #Saving Model    \n",
    "    save_path = saver.save(sess, \"./fashion-mnist-model.ckpt\")\n",
    "    print(\"Optimization Finished!\")\n",
    "    print('Testing accuracy:', sess.run(accuracy, feed_dict={x: test_x.T[:1000,:], y:Y_test.T[:1000,:], keep_prob:1.}))\n",
    "    "
   ]
  },
  {
   "cell_type": "code",
   "execution_count": 78,
   "metadata": {},
   "outputs": [
    {
     "data": {
      "image/png": "[encoded data removed]",
      "text/plain": [
       "<Figure size 432x288 with 1 Axes>"
      ]
     },
     "metadata": {
      "needs_background": "light"
     },
     "output_type": "display_data"
    }
   ],
   "source": [
    "plt.plot(epoch_drp,loss_drp)\n",
    "plt.show()"
   ]
  },
  {
   "cell_type": "markdown",
   "metadata": {},
   "source": [
    "##### BatchNorm"
   ]
  },
  {
   "cell_type": "markdown",
   "metadata": {},
   "source": [
    "New Arch with Batch Norm of Input."
   ]
  },
  {
   "cell_type": "code",
   "execution_count": 98,
   "metadata": {},
   "outputs": [],
   "source": [
    "# Network Parameters\n",
    "n_input = 784  # MNIST data input (img shape: 28*28)\n",
    "n_classes = 10  # MNIST total classes (0-9 digits)\n",
    "dropout = 0.50 # Dropout, probability to keep units"
   ]
  },
  {
   "cell_type": "code",
   "execution_count": 99,
   "metadata": {},
   "outputs": [],
   "source": [
    "# tf Graph input\n",
    "x = tf.placeholder(tf.float32, [None, n_input])\n",
    "y = tf.placeholder(tf.float32, [None, n_classes])\n",
    "keep_prob = tf.placeholder(tf.float32)  # dropout (keep probability)\n",
    "training = tf.placeholder_with_default(False, shape=(), name='training')"
   ]
  },
  {
   "cell_type": "code",
   "execution_count": 100,
   "metadata": {},
   "outputs": [],
   "source": [
    "# Create some wrappers for simplicity\n",
    "def conv2d(x, W, b, strides=1):\n",
    "    # Conv2D wrapper, with bias and relu activation\n",
    "    x = tf.nn.conv2d(x, W, strides=[1, strides, strides, 1], padding='SAME')\n",
    "    x = tf.nn.bias_add(x, b)\n",
    "    return tf.nn.relu(x)"
   ]
  },
  {
   "cell_type": "code",
   "execution_count": 101,
   "metadata": {},
   "outputs": [],
   "source": [
    "def maxpool2d(x, k=2):\n",
    "    # MaxPool2D wrapper\n",
    "    return tf.nn.max_pool(x, ksize=[1, k, k, 1], strides=[1, k, k, 1],\n",
    "                          padding='SAME')"
   ]
  },
  {
   "cell_type": "code",
   "execution_count": 102,
   "metadata": {},
   "outputs": [],
   "source": [
    "# Create model\n",
    "def conv_net(x, weights, biases, dropout):\n",
    "    # Reshape input picture\n",
    "    x = tf.reshape(x, shape=[-1, 28, 28, 1])\n",
    "    \n",
    "    # Convolution Layer\n",
    "    conv1 = conv2d(x, weights['wc1'], biases['bc1'])\n",
    "    # Max Pooling (down-sampling)\n",
    "    conv1 = maxpool2d(conv1, k=2)\n",
    "    #Batch Norm\n",
    "    batchNorm1 = tf.layers.batch_normalization(conv1, training=training, momentum=0.9)\n",
    "    \n",
    "    \n",
    "    # Convolution Layer\n",
    "    conv2 = conv2d(batchNorm1, weights['wc2'], biases['bc2'])\n",
    "    # Max Pooling (down-sampling)\n",
    "    conv2 = maxpool2d(conv2, k=2)\n",
    "    #Batch Norm\n",
    "    batchNorm2 = tf.layers.batch_normalization(conv2, training=training, momentum=0.9)\n",
    "    \n",
    "    # Fully connected layer\n",
    "    # Reshape conv2 output to fit fully connected layer input\n",
    "    fc1 = tf.reshape(batchNorm2, [-1, weights['wd1'].get_shape().as_list()[0]])\n",
    "    fc1 = tf.add(tf.matmul(fc1, weights['wd1']), biases['bd1'])\n",
    "    fc1 = tf.nn.relu(fc1)\n",
    "    # Apply Dropout\n",
    "    fc1 = tf.nn.dropout(fc1, dropout)\n",
    "\n",
    "    # Output, class prediction\n",
    "    #Batch Norm\n",
    "    batchNorm3 = tf.layers.batch_normalization(fc1, training=training, momentum=0.9)\n",
    "    out = tf.add(tf.matmul(batchNorm3, weights['out']), biases['out'])\n",
    "    return out"
   ]
  },
  {
   "cell_type": "code",
   "execution_count": 103,
   "metadata": {
    "scrolled": true
   },
   "outputs": [],
   "source": [
    "# Store layers weight & bias\n",
    "\n",
    "weights = {\n",
    "    # 5x5 conv, 1 input, 32 outputs\n",
    "    'wc1': tf.Variable(tf.random_normal([5, 5, 1, 32])),\n",
    "    # 5x5 conv, 32 inputs, 64 outputs\n",
    "    'wc2': tf.Variable(tf.random_normal([5, 5, 32, 64])),\n",
    "    # fully connected, 7*7*64 inputs, 1024 outputs\n",
    "    'wd1': tf.Variable(tf.random_normal([7 * 7 * 64, 1024])),\n",
    "    # 1024 inputs, 10 outputs (class prediction)\n",
    "    'out': tf.Variable(tf.random_normal([1024, n_classes]))\n",
    "}\n",
    "\n",
    "biases = {\n",
    "    'bc1': tf.Variable(tf.random_normal([32])),\n",
    "    'bc2': tf.Variable(tf.random_normal([64])),\n",
    "    'bd1': tf.Variable(tf.random_normal([1024])),\n",
    "    'out': tf.Variable(tf.random_normal([n_classes]))\n",
    "}"
   ]
  },
  {
   "cell_type": "code",
   "execution_count": 104,
   "metadata": {},
   "outputs": [],
   "source": [
    "# Construct model\n",
    "pred = conv_net(x, weights, biases, keep_prob)"
   ]
  },
  {
   "cell_type": "code",
   "execution_count": 105,
   "metadata": {
    "scrolled": true
   },
   "outputs": [],
   "source": [
    "# Define loss and optimizer\n",
    "cost = tf.reduce_mean(tf.nn.softmax_cross_entropy_with_logits(logits=pred, labels=y))\n",
    "optimizer = tf.train.AdamOptimizer(learning_rate=0.001).minimize(cost)\n",
    "# Evaluate model\n",
    "correct_pred = tf.equal(tf.argmax(pred, 1), tf.argmax(y, 1))\n",
    "accuracy = tf.reduce_mean(tf.cast(correct_pred, tf.float32))\n",
    "# Initializing the variables\n",
    "init = tf.initialize_all_variables()"
   ]
  },
  {
   "cell_type": "code",
   "execution_count": 106,
   "metadata": {},
   "outputs": [],
   "source": [
    "digits = 10 # No. of Classes\n",
    "m=300000 #Training Instances\n",
    "\n",
    "Y_new = np.eye(digits)[train_y.astype('int32')]\n",
    "Y_new = Y_new.T.reshape(digits,m)\n",
    "Y_test = np.eye(digits)[test_y.astype('int32')]\n",
    "Y_test = Y_test.T.reshape(digits,10000)"
   ]
  },
  {
   "cell_type": "code",
   "execution_count": 107,
   "metadata": {},
   "outputs": [],
   "source": [
    "def next_batch(num, data, labels):\n",
    "    '''\n",
    "    Return a total of `num` random samples and labels. \n",
    "    '''\n",
    "    idx = np.arange(0 , len(data))\n",
    "    np.random.shuffle(idx)\n",
    "    idx = idx[:num]\n",
    "    data_shuffle = [data[ i] for i in idx]\n",
    "    labels_shuffle = [labels[ i] for i in idx]\n",
    "\n",
    "    return np.asarray(data_shuffle), np.asarray(labels_shuffle)"
   ]
  },
  {
   "cell_type": "code",
   "execution_count": 108,
   "metadata": {},
   "outputs": [],
   "source": [
    "x_=train_x.T[30000:90000,:]\n",
    "y_=Y_new.T[30000:90000,:]"
   ]
  },
  {
   "cell_type": "code",
   "execution_count": 109,
   "metadata": {},
   "outputs": [],
   "source": [
    "# Parameters\n",
    "training_iters = 60000\n",
    "batch_size = 100\n",
    "display_step = 10"
   ]
  },
  {
   "cell_type": "code",
   "execution_count": 113,
   "metadata": {
    "scrolled": true
   },
   "outputs": [
    {
     "name": "stdout",
     "output_type": "stream",
     "text": [
      "Iter 1000, Minibatch Loss= 43262.371094, Training Accuracy= 0.15000\n",
      "Iter 2000, Minibatch Loss= 29462.525391, Training Accuracy= 0.23000\n",
      "Iter 3000, Minibatch Loss= 21006.082031, Training Accuracy= 0.21000\n",
      "Iter 4000, Minibatch Loss= 17701.966797, Training Accuracy= 0.20000\n",
      "Iter 5000, Minibatch Loss= 18043.457031, Training Accuracy= 0.21000\n",
      "Iter 6000, Minibatch Loss= 16863.439453, Training Accuracy= 0.31000\n",
      "Iter 7000, Minibatch Loss= 11647.245117, Training Accuracy= 0.23000\n",
      "Iter 8000, Minibatch Loss= 12499.293945, Training Accuracy= 0.33000\n",
      "Iter 9000, Minibatch Loss= 11341.187500, Training Accuracy= 0.33000\n",
      "Iter 10000, Minibatch Loss= 9365.749023, Training Accuracy= 0.35000\n",
      "Iter 11000, Minibatch Loss= 4448.995605, Training Accuracy= 0.32000\n",
      "Iter 12000, Minibatch Loss= 6128.976074, Training Accuracy= 0.40000\n",
      "Iter 13000, Minibatch Loss= 6085.316406, Training Accuracy= 0.38000\n",
      "Iter 14000, Minibatch Loss= 4995.008789, Training Accuracy= 0.37000\n",
      "Iter 15000, Minibatch Loss= 4329.320801, Training Accuracy= 0.53000\n",
      "Iter 16000, Minibatch Loss= 4638.056152, Training Accuracy= 0.30000\n",
      "Iter 17000, Minibatch Loss= 4403.123047, Training Accuracy= 0.41000\n",
      "Iter 18000, Minibatch Loss= 4201.540527, Training Accuracy= 0.37000\n",
      "Iter 19000, Minibatch Loss= 4693.836914, Training Accuracy= 0.31000\n",
      "Iter 20000, Minibatch Loss= 2903.022461, Training Accuracy= 0.38000\n",
      "Iter 21000, Minibatch Loss= 2468.029053, Training Accuracy= 0.36000\n",
      "Iter 22000, Minibatch Loss= 3437.635010, Training Accuracy= 0.35000\n",
      "Iter 23000, Minibatch Loss= 2872.546143, Training Accuracy= 0.40000\n",
      "Iter 24000, Minibatch Loss= 2420.816650, Training Accuracy= 0.37000\n",
      "Iter 25000, Minibatch Loss= 2225.557617, Training Accuracy= 0.45000\n",
      "Iter 26000, Minibatch Loss= 2310.657959, Training Accuracy= 0.44000\n",
      "Iter 27000, Minibatch Loss= 2718.503662, Training Accuracy= 0.41000\n",
      "Iter 28000, Minibatch Loss= 1698.079956, Training Accuracy= 0.41000\n",
      "Iter 29000, Minibatch Loss= 1730.104370, Training Accuracy= 0.40000\n",
      "Iter 30000, Minibatch Loss= 1976.058716, Training Accuracy= 0.31000\n",
      "Iter 31000, Minibatch Loss= 1894.283691, Training Accuracy= 0.37000\n",
      "Iter 32000, Minibatch Loss= 1214.146973, Training Accuracy= 0.38000\n",
      "Iter 33000, Minibatch Loss= 2506.176758, Training Accuracy= 0.37000\n",
      "Iter 34000, Minibatch Loss= 2080.184082, Training Accuracy= 0.45000\n",
      "Iter 35000, Minibatch Loss= 1232.717773, Training Accuracy= 0.38000\n",
      "Iter 36000, Minibatch Loss= 1054.560059, Training Accuracy= 0.38000\n",
      "Iter 37000, Minibatch Loss= 1024.297363, Training Accuracy= 0.40000\n",
      "Iter 38000, Minibatch Loss= 1809.252197, Training Accuracy= 0.33000\n",
      "Iter 39000, Minibatch Loss= 756.559814, Training Accuracy= 0.49000\n",
      "Iter 40000, Minibatch Loss= 1816.645020, Training Accuracy= 0.47000\n",
      "Iter 41000, Minibatch Loss= 874.771790, Training Accuracy= 0.44000\n",
      "Iter 42000, Minibatch Loss= 847.033386, Training Accuracy= 0.37000\n",
      "Iter 43000, Minibatch Loss= 1002.331238, Training Accuracy= 0.40000\n",
      "Iter 44000, Minibatch Loss= 315.631714, Training Accuracy= 0.42000\n",
      "Iter 45000, Minibatch Loss= 714.547729, Training Accuracy= 0.47000\n",
      "Iter 46000, Minibatch Loss= 556.117126, Training Accuracy= 0.41000\n",
      "Iter 47000, Minibatch Loss= 1094.275879, Training Accuracy= 0.41000\n",
      "Iter 48000, Minibatch Loss= 566.795288, Training Accuracy= 0.43000\n",
      "Iter 49000, Minibatch Loss= 1035.392090, Training Accuracy= 0.50000\n",
      "Iter 50000, Minibatch Loss= 973.666870, Training Accuracy= 0.41000\n",
      "Iter 51000, Minibatch Loss= 731.158203, Training Accuracy= 0.45000\n",
      "Iter 52000, Minibatch Loss= 1280.826294, Training Accuracy= 0.35000\n",
      "Iter 53000, Minibatch Loss= 1103.865601, Training Accuracy= 0.42000\n",
      "Iter 54000, Minibatch Loss= 1380.804321, Training Accuracy= 0.42000\n",
      "Iter 55000, Minibatch Loss= 855.469116, Training Accuracy= 0.43000\n",
      "Iter 56000, Minibatch Loss= 423.869995, Training Accuracy= 0.41000\n",
      "Iter 57000, Minibatch Loss= 857.414246, Training Accuracy= 0.36000\n",
      "Iter 58000, Minibatch Loss= 304.626587, Training Accuracy= 0.48000\n",
      "Iter 59000, Minibatch Loss= 537.217285, Training Accuracy= 0.33000\n",
      "Optimization Finished!\n",
      "Testing accuracy: 0.807\n"
     ]
    }
   ],
   "source": [
    "# Launch the graph\n",
    "with tf.Session() as sess:\n",
    "    sess.run(init)\n",
    "    step = 1\n",
    "    loss_bn=[]\n",
    "    epoch_bn=[]\n",
    "    # Keep training until reach max iterations\n",
    "    while step * batch_size < training_iters:\n",
    "        #Creating Batch of Train data\n",
    "        batch_x, batch_y = next_batch(batch_size,x_,y_)\n",
    "        # Run optimization op (backprop)\n",
    "        sess.run(optimizer, feed_dict={x: batch_x, y: batch_y,keep_prob: dropout})\n",
    "        \n",
    "        if step % display_step == 0:\n",
    "            # Calculate batch loss and accuracy\n",
    "            loss, acc = sess.run([cost, accuracy], feed_dict={x: batch_x,y: batch_y,keep_prob: 0.5})\n",
    "            print(\"Iter \" + str(step * batch_size) + \", Minibatch Loss= \" + \\\n",
    "                  \"{:.6f}\".format(loss) + \", Training Accuracy= \" + \\\n",
    "                  \"{:.5f}\".format(acc))\n",
    "        loss_bn.append(loss)\n",
    "        epoch_bn.append(step)\n",
    "        step += 1\n",
    "    #Saving Model    \n",
    "    save_path = saver.save(sess, \"./fashion-mnist-model.ckpt\")\n",
    "    print(\"Optimization Finished!\")\n",
    "    print('Testing accuracy:', sess.run(accuracy, feed_dict={x: test_x.T[:1000,:], y:Y_test.T[:1000,:], keep_prob:1.}))\n",
    "    "
   ]
  },
  {
   "cell_type": "code",
   "execution_count": 114,
   "metadata": {},
   "outputs": [
    {
     "data": {
      "image/png": "[encoded data removed]",
      "text/plain": [
       "<Figure size 432x288 with 1 Axes>"
      ]
     },
     "metadata": {
      "needs_background": "light"
     },
     "output_type": "display_data"
    }
   ],
   "source": [
    "plt.plot(epoch_bn,loss_bn)\n",
    "plt.show()"
   ]
  },
  {
   "cell_type": "code",
   "execution_count": null,
   "metadata": {},
   "outputs": [],
   "source": []
  }
 ],
 "metadata": {
  "kernelspec": {
   "display_name": "Python 3",
   "language": "python",
   "name": "python3"
  },
  "language_info": {
   "codemirror_mode": {
    "name": "ipython",
    "version": 3
   },
   "file_extension": ".py",
   "mimetype": "text/x-python",
   "name": "python",
   "nbconvert_exporter": "python",
   "pygments_lexer": "ipython3",
   "version": "3.7.3"
  }
 },
 "nbformat": 4,
 "nbformat_minor": 2
}
